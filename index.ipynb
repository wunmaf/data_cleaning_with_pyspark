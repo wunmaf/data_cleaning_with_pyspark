{
 "cells": [
  {
   "cell_type": "code",
   "execution_count": null,
   "metadata": {},
   "outputs": [],
   "source": [
    "#importing all functions\n",
    "from pyspark.sql import SparkSession\n",
    "\n",
    "spark = SparkSession.builder.appName('rheeza').getOrCreate()"
   ]
  },
  {
   "cell_type": "code",
   "execution_count": 10,
   "metadata": {},
   "outputs": [],
   "source": [
    "from pyspark.sql import functions as fn"
   ]
  },
  {
   "cell_type": "markdown",
   "metadata": {},
   "source": [
    "## Understanding the Dataset"
   ]
  },
  {
   "cell_type": "code",
   "execution_count": null,
   "metadata": {},
   "outputs": [],
   "source": [
    "#reading the dataset \n",
    "trails_df = spark.read.json('dataset.json',multiLine=True)"
   ]
  },
  {
   "cell_type": "code",
   "execution_count": null,
   "metadata": {},
   "outputs": [],
   "source": [
    "#displaying the content of the dataframe limiting to 5 records\n",
    "trails_df.show(5)"
   ]
  },
  {
   "cell_type": "code",
   "execution_count": 33,
   "metadata": {},
   "outputs": [
    {
     "name": "stdout",
     "output_type": "stream",
     "text": [
      "root\n",
      " |-- ageofparticipant: long (nullable = true)\n",
      " |-- clinician: struct (nullable = true)\n",
      " |    |-- branch: string (nullable = true)\n",
      " |    |-- name: string (nullable = true)\n",
      " |    |-- role: string (nullable = true)\n",
      " |-- drug_used: string (nullable = true)\n",
      " |-- experimentenddate: string (nullable = true)\n",
      " |-- experimentstartdate: string (nullable = true)\n",
      " |-- noofhourspassedatfirstreaction: long (nullable = true)\n",
      " |-- result: struct (nullable = true)\n",
      " |    |-- conclusion: string (nullable = true)\n",
      " |    |-- sideeffectsonparticipant: string (nullable = true)\n",
      "\n"
     ]
    }
   ],
   "source": [
    "#structure of the datset\n",
    "trails_df.printSchema()"
   ]
  },
  {
   "cell_type": "code",
   "execution_count": 34,
   "metadata": {},
   "outputs": [
    {
     "data": {
      "text/plain": [
       "['ageofparticipant',\n",
       " 'clinician',\n",
       " 'drug_used',\n",
       " 'experimentenddate',\n",
       " 'experimentstartdate',\n",
       " 'noofhourspassedatfirstreaction',\n",
       " 'result']"
      ]
     },
     "execution_count": 34,
     "metadata": {},
     "output_type": "execute_result"
    }
   ],
   "source": [
    "# displaying the columns in the dataframe\n",
    "trails_df.columns"
   ]
  },
  {
   "cell_type": "markdown",
   "metadata": {},
   "source": [
    "## Flattening the json object(nested cloumns) within the structure\n",
    "- maintaining same hierachy as clinician for branch,name and role\n",
    "- maintaining same hierachy as result for conclusion and sideeffectsonparticipant"
   ]
  },
  {
   "cell_type": "code",
   "execution_count": 11,
   "metadata": {},
   "outputs": [],
   "source": [
    "columns = ['ageofparticipant',\n",
    " 'clinician.branch',\n",
    " 'clinician.name',\n",
    " 'clinician.role',\n",
    " 'drug_used',\n",
    " 'experimentenddate',\n",
    " 'experimentstartdate',\n",
    " 'noofhourspassedatfirstreaction',\n",
    " 'result.conclusion',\n",
    " 'result.sideeffectsonparticipant']"
   ]
  },
  {
   "cell_type": "code",
   "execution_count": 35,
   "metadata": {},
   "outputs": [
    {
     "name": "stdout",
     "output_type": "stream",
     "text": [
      "+----------------+-------+-------+---------+---------+-----------------+-------------------+------------------------------+-------------+------------------------+\n",
      "|ageofparticipant| branch|   name|     role|drug_used|experimentenddate|experimentstartdate|noofhourspassedatfirstreaction|   conclusion|sideeffectsonparticipant|\n",
      "+----------------+-------+-------+---------+---------+-----------------+-------------------+------------------------------+-------------+------------------------+\n",
      "|              19|Ontario|   Saul|therapist|  Placebo|    1619827200000|      1617235200000|                            52|BP normalized|          rashes on neck|\n",
      "|              14|Ontario|   Saul|    nurse| Naproxen|    1619827200000|      1617235200000|                            78|    Follow-up|                     N/A|\n",
      "|              17|Ontario|   Saul|    nurse|  Placebo|    1619827200000|      1617235200000|                            14|    Follow-up|                     N/A|\n",
      "|              18|Ontario|   Will|    nurse| Naproxen|    1619827200000|      1617235200000|                            14|BP normalized|                     N/A|\n",
      "|              17|Ontario|Patrick|   doctor| Naproxen|    1619827200000|      1617235200000|                            22|    No effect|          rashes on neck|\n",
      "+----------------+-------+-------+---------+---------+-----------------+-------------------+------------------------------+-------------+------------------------+\n",
      "only showing top 5 rows\n",
      "\n"
     ]
    }
   ],
   "source": [
    "trails_df.select(columns).show(5)"
   ]
  },
  {
   "cell_type": "code",
   "execution_count": 16,
   "metadata": {},
   "outputs": [
    {
     "name": "stdout",
     "output_type": "stream",
     "text": [
      "+----------------+----------------+--------------+--------------+---------+-----------------+-------------------+------------------------------+-----------------+-------------------------------+\n",
      "|ageofparticipant|clinician.branch|clinician.name|clinician.role|drug_used|experimentenddate|experimentstartdate|noofhourspassedatfirstreaction|result.conclusion|result.sideeffectsonparticipant|\n",
      "+----------------+----------------+--------------+--------------+---------+-----------------+-------------------+------------------------------+-----------------+-------------------------------+\n",
      "|               0|               0|             0|           109|        0|                0|                  0|                            73|               53|                              0|\n",
      "+----------------+----------------+--------------+--------------+---------+-----------------+-------------------+------------------------------+-----------------+-------------------------------+\n",
      "\n"
     ]
    }
   ],
   "source": [
    "#checking null values by counting null values per column\n",
    "trails_df.select([fn.count(fn.when(fn.col(column).isNull(), column)).alias(column) for column in columns]).show()\n",
    "\n"
   ]
  },
  {
   "cell_type": "code",
   "execution_count": null,
   "metadata": {},
   "outputs": [],
   "source": []
  },
  {
   "cell_type": "markdown",
   "metadata": {},
   "source": [
    "## Cleaning"
   ]
  },
  {
   "cell_type": "code",
   "execution_count": null,
   "metadata": {},
   "outputs": [],
   "source": [
    "#flatten  df\n",
    "# address null values\n",
    "# renaming\n"
   ]
  },
  {
   "cell_type": "code",
   "execution_count": 17,
   "metadata": {},
   "outputs": [],
   "source": [
    "#creating a copy of the dataframe\n",
    "new_trials_df = trails_df.select(columns)"
   ]
  },
  {
   "cell_type": "code",
   "execution_count": 18,
   "metadata": {},
   "outputs": [
    {
     "name": "stdout",
     "output_type": "stream",
     "text": [
      "root\n",
      " |-- ageofparticipant: long (nullable = true)\n",
      " |-- branch: string (nullable = true)\n",
      " |-- name: string (nullable = true)\n",
      " |-- role: string (nullable = true)\n",
      " |-- drug_used: string (nullable = true)\n",
      " |-- experimentenddate: string (nullable = true)\n",
      " |-- experimentstartdate: string (nullable = true)\n",
      " |-- noofhourspassedatfirstreaction: long (nullable = true)\n",
      " |-- conclusion: string (nullable = true)\n",
      " |-- sideeffectsonparticipant: string (nullable = true)\n",
      "\n"
     ]
    }
   ],
   "source": [
    "#checking the structure of the new df\n",
    "new_trials_df.printSchema()"
   ]
  },
  {
   "cell_type": "code",
   "execution_count": 24,
   "metadata": {},
   "outputs": [],
   "source": [
    "#renaming columns using withColumnsRenamed method\n",
    "new_trials_df = new_trials_df.withColumnsRenamed(\n",
    "    {'branch' : 'clinic_branch','name': 'head_clinician','role':'clinician_role',\n",
    "    'experimentenddate' : 'experiment_end_date','experimentstartdate': 'experiment_start_date',\n",
    "    'noofhourspassedatfirstreaction' : 'hours_passed_at_first_reaction',\n",
    "    'conclusion' : 'experiment_conclusion','sideeffectsonparticipant':'patient_side_effect'\n",
    "    })"
   ]
  },
  {
   "cell_type": "code",
   "execution_count": 25,
   "metadata": {},
   "outputs": [
    {
     "name": "stdout",
     "output_type": "stream",
     "text": [
      "+----------------+----------------+--------------+--------------+---------+-------------------+---------------------+------------------------------+---------------------+-------------------+\n",
      "|ageofparticipant|clinician_branch|clinician_name|clinician_role|drug_used|experiment_end_date|experiment_start_date|hours_passed_at_first_reaction|experiment_conclusion|patient_side_effect|\n",
      "+----------------+----------------+--------------+--------------+---------+-------------------+---------------------+------------------------------+---------------------+-------------------+\n",
      "|              19|         Ontario|          Saul|     therapist|  Placebo|      1619827200000|        1617235200000|                            52|        BP normalized|     rashes on neck|\n",
      "|              14|         Ontario|          Saul|         nurse| Naproxen|      1619827200000|        1617235200000|                            78|            Follow-up|                N/A|\n",
      "|              17|         Ontario|          Saul|         nurse|  Placebo|      1619827200000|        1617235200000|                            14|            Follow-up|                N/A|\n",
      "|              18|         Ontario|          Will|         nurse| Naproxen|      1619827200000|        1617235200000|                            14|        BP normalized|                N/A|\n",
      "|              17|         Ontario|       Patrick|        doctor| Naproxen|      1619827200000|        1617235200000|                            22|            No effect|     rashes on neck|\n",
      "|              17|         Ontario|       Patrick|        doctor| Naproxen|      1619827200000|        1617235200000|                             4|            Follow-up|          headaches|\n",
      "|              20|         Ontario|          Saul|        doctor| Naproxen|      1619827200000|        1617235200000|                            85|            No effect|          headaches|\n",
      "|              15|         Ontario|          Saul|        doctor|  Placebo|      1619827200000|        1617235200000|                            49|            No effect|     rashes on neck|\n",
      "|              14|         Ontario|          Will|     therapist|  Placebo|      1619827200000|        1617235200000|                            84|            Follow-up|          headaches|\n",
      "|              20|         Ontario|        Colins|         nurse|  Placebo|      1619827200000|        1617235200000|                            66|            Follow-up|      arms and feet|\n",
      "|              18|         Ontario|       Patrick|        doctor|  Placebo|      1619827200000|        1617235200000|                            40|        BP normalized|        light fever|\n",
      "|              17|         Ontario|       Patrick|        doctor|  Placebo|      1619827200000|        1617235200000|                            72|        BP normalized|      arms and feet|\n",
      "|              19|         Ontario|        Colins|     therapist|  Placebo|      1619827200000|        1617235200000|                            36|            No effect|                N/A|\n",
      "|              15|         Ontario|        Colins|     therapist| Naproxen|      1619827200000|        1617235200000|                            12|        BP normalized|          headaches|\n",
      "|              19|         Ontario|          Saul|     therapist|  Placebo|      1619827200000|        1617235200000|                            14|            No effect|                N/A|\n",
      "|              16|         Ontario|        Colins|         nurse|  Placebo|      1619827200000|        1617235200000|                            63|        BP normalized|                N/A|\n",
      "|              16|         Ontario|          Saul|         nurse| Naproxen|      1619827200000|        1617235200000|                            70|        BP normalized|          headaches|\n",
      "|              18|         Ontario|          Will|     therapist| Naproxen|      1619827200000|        1617235200000|                            10|        BP normalized|                N/A|\n",
      "|              16|         Ontario|       Patrick|         nurse| Naproxen|      1619827200000|        1617235200000|                            11|            Follow-up|     rashes on neck|\n",
      "|              14|         Ontario|       Patrick|        doctor| Naproxen|      1619827200000|        1617235200000|                            32|            No effect|        light fever|\n",
      "+----------------+----------------+--------------+--------------+---------+-------------------+---------------------+------------------------------+---------------------+-------------------+\n",
      "only showing top 20 rows\n",
      "\n"
     ]
    }
   ],
   "source": [
    "#checking new df\n",
    "new_trials_df.show()"
   ]
  },
  {
   "cell_type": "markdown",
   "metadata": {},
   "source": [
    "# Working all Null Values"
   ]
  },
  {
   "cell_type": "code",
   "execution_count": 36,
   "metadata": {},
   "outputs": [
    {
     "name": "stdout",
     "output_type": "stream",
     "text": [
      "+-------+------------------+----------------+--------------+--------------+---------+--------------------+---------------------+------------------------------+---------------------+-------------------+\n",
      "|summary|  ageofparticipant|clinician_branch|clinician_name|clinician_role|drug_used| experiment_end_date|experiment_start_date|hours_passed_at_first_reaction|experiment_conclusion|patient_side_effect|\n",
      "+-------+------------------+----------------+--------------+--------------+---------+--------------------+---------------------+------------------------------+---------------------+-------------------+\n",
      "|  count|              3586|            3586|          3586|          3586|     3586|                3586|                 3586|                          3513|                 3586|               3586|\n",
      "|   mean|17.507250418293363|            null|          null|          null|     null|1.618381578137200...| 1.615813671834913...|             44.89097637346997|                 null|               null|\n",
      "| stddev|2.3066401927555233|            null|          null|          null|     null|2.3250351904618263E9| 2.2862846039555306E9|            24.540325490035848|                 null|               null|\n",
      "|    min|                14|         Alberta|        Colins|        doctor| Naproxen|       1614643200000|        1612137600000|                             3|        BP normalized|                N/A|\n",
      "|    max|                21|          Quebec|       Windsor|       unknown|  Placebo|       1619827200000|        1617235200000|                            87|              unknown|     rashes on neck|\n",
      "+-------+------------------+----------------+--------------+--------------+---------+--------------------+---------------------+------------------------------+---------------------+-------------------+\n",
      "\n"
     ]
    }
   ],
   "source": [
    "# working on null values\n",
    "new_trials_df.describe().show()"
   ]
  },
  {
   "cell_type": "code",
   "execution_count": 37,
   "metadata": {},
   "outputs": [],
   "source": [
    "#assigning values to null values seen in multiple columns\n",
    "new_trials_df = new_trials_df.na.fill({'experiment_conclusion': 'unknown','clinician_role' : 'unknown'})\n"
   ]
  },
  {
   "cell_type": "code",
   "execution_count": 38,
   "metadata": {},
   "outputs": [
    {
     "name": "stdout",
     "output_type": "stream",
     "text": [
      "+-------+------------------+----------------+--------------+--------------+---------+--------------------+---------------------+------------------------------+---------------------+-------------------+\n",
      "|summary|  ageofparticipant|clinician_branch|clinician_name|clinician_role|drug_used| experiment_end_date|experiment_start_date|hours_passed_at_first_reaction|experiment_conclusion|patient_side_effect|\n",
      "+-------+------------------+----------------+--------------+--------------+---------+--------------------+---------------------+------------------------------+---------------------+-------------------+\n",
      "|  count|              3586|            3586|          3586|          3586|     3586|                3586|                 3586|                          3513|                 3586|               3586|\n",
      "|   mean|17.507250418293363|            null|          null|          null|     null|1.618381578137200...| 1.615813671834913...|             44.89097637346997|                 null|               null|\n",
      "| stddev|2.3066401927555233|            null|          null|          null|     null|2.3250351904618263E9| 2.2862846039555306E9|            24.540325490035848|                 null|               null|\n",
      "|    min|                14|         Alberta|        Colins|        doctor| Naproxen|       1614643200000|        1612137600000|                             3|        BP normalized|                N/A|\n",
      "|    max|                21|          Quebec|       Windsor|       unknown|  Placebo|       1619827200000|        1617235200000|                            87|              unknown|     rashes on neck|\n",
      "+-------+------------------+----------------+--------------+--------------+---------+--------------------+---------------------+------------------------------+---------------------+-------------------+\n",
      "\n"
     ]
    }
   ],
   "source": [
    "new_trials_df.describe().show()"
   ]
  },
  {
   "cell_type": "code",
   "execution_count": null,
   "metadata": {},
   "outputs": [],
   "source": []
  },
  {
   "cell_type": "code",
   "execution_count": null,
   "metadata": {},
   "outputs": [],
   "source": []
  },
  {
   "cell_type": "code",
   "execution_count": null,
   "metadata": {},
   "outputs": [],
   "source": []
  }
 ],
 "metadata": {
  "kernelspec": {
   "display_name": "base",
   "language": "python",
   "name": "python3"
  },
  "language_info": {
   "codemirror_mode": {
    "name": "ipython",
    "version": 3
   },
   "file_extension": ".py",
   "mimetype": "text/x-python",
   "name": "python",
   "nbconvert_exporter": "python",
   "pygments_lexer": "ipython3",
   "version": "3.10.9"
  },
  "orig_nbformat": 4
 },
 "nbformat": 4,
 "nbformat_minor": 2
}
